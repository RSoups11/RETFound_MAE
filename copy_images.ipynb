{
 "cells": [
  {
   "cell_type": "markdown",
   "metadata": {},
   "source": [
    "# Images Folder"
   ]
  },
  {
   "cell_type": "markdown",
   "metadata": {},
   "source": [
    "Your images folder should be at the same level of the RETFoud_MAE cloned folder. \n",
    "\n",
    "```\n",
    "images/\n",
    "RETFound_MAE/\n",
    "    └── copy_images.ipynb\n",
    "```"
   ]
  },
  {
   "cell_type": "markdown",
   "metadata": {},
   "source": [
    "# Binary copy with (e.g : Messidor-2)"
   ]
  },
  {
   "cell_type": "code",
   "execution_count": 2,
   "metadata": {},
   "outputs": [],
   "source": [
    "import pandas as pd\n",
    "import numpy as np\n",
    "import matplotlib.pyplot as plt\n",
    "import os, io, random, math, glob, shutil\n",
    "\n",
    "from tqdm import tqdm\n",
    "from sklearn.model_selection import train_test_split, StratifiedShuffleSplit, StratifiedKFold\n",
    "from imblearn.over_sampling import RandomOverSampler\n",
    "from pathlib import Path\n",
    "from PIL import Image, ImageEnhance, ImageFilter, ImageOps, ImageDraw, ImageChops"
   ]
  },
  {
   "cell_type": "code",
   "execution_count": 3,
   "metadata": {},
   "outputs": [
    {
     "data": {
      "text/html": [
       "<div>\n",
       "<style scoped>\n",
       "    .dataframe tbody tr th:only-of-type {\n",
       "        vertical-align: middle;\n",
       "    }\n",
       "\n",
       "    .dataframe tbody tr th {\n",
       "        vertical-align: top;\n",
       "    }\n",
       "\n",
       "    .dataframe thead th {\n",
       "        text-align: right;\n",
       "    }\n",
       "</style>\n",
       "<table border=\"1\" class=\"dataframe\">\n",
       "  <thead>\n",
       "    <tr style=\"text-align: right;\">\n",
       "      <th></th>\n",
       "      <th>id_code</th>\n",
       "      <th>diagnosis</th>\n",
       "      <th>binary_DR</th>\n",
       "    </tr>\n",
       "  </thead>\n",
       "  <tbody>\n",
       "    <tr>\n",
       "      <th>0</th>\n",
       "      <td>20051020_43808_0100_PP.png</td>\n",
       "      <td>0</td>\n",
       "      <td>0</td>\n",
       "    </tr>\n",
       "    <tr>\n",
       "      <th>1</th>\n",
       "      <td>20051020_43832_0100_PP.png</td>\n",
       "      <td>1</td>\n",
       "      <td>0</td>\n",
       "    </tr>\n",
       "    <tr>\n",
       "      <th>2</th>\n",
       "      <td>20051020_43882_0100_PP.png</td>\n",
       "      <td>1</td>\n",
       "      <td>0</td>\n",
       "    </tr>\n",
       "    <tr>\n",
       "      <th>3</th>\n",
       "      <td>20051020_43906_0100_PP.png</td>\n",
       "      <td>2</td>\n",
       "      <td>1</td>\n",
       "    </tr>\n",
       "    <tr>\n",
       "      <th>4</th>\n",
       "      <td>20051020_44261_0100_PP.png</td>\n",
       "      <td>0</td>\n",
       "      <td>0</td>\n",
       "    </tr>\n",
       "  </tbody>\n",
       "</table>\n",
       "</div>"
      ],
      "text/plain": [
       "                      id_code  diagnosis  binary_DR\n",
       "0  20051020_43808_0100_PP.png          0          0\n",
       "1  20051020_43832_0100_PP.png          1          0\n",
       "2  20051020_43882_0100_PP.png          1          0\n",
       "3  20051020_43906_0100_PP.png          2          1\n",
       "4  20051020_44261_0100_PP.png          0          0"
      ]
     },
     "execution_count": 3,
     "metadata": {},
     "output_type": "execute_result"
    }
   ],
   "source": [
    "# CSV\n",
    "df = pd.read_csv(\"../images/messidor_2/messidor_data.csv\")\n",
    "\n",
    "# Binary classification\n",
    "df['binary_DR'] = df['diagnosis'].apply(lambda x: 0 if x in [0, 1] else 1)\n",
    "\n",
    "# Check\n",
    "df[['id_code', 'diagnosis', 'binary_DR']].head()"
   ]
  },
  {
   "cell_type": "code",
   "execution_count": 4,
   "metadata": {},
   "outputs": [
    {
     "name": "stdout",
     "output_type": "stream",
     "text": [
      "Total images : 1744\n",
      "\n",
      "Binary Classes distribution (0 = No/Low DR, 1 = mild to severe DR) :\n",
      "  • Classe 0: 1287 images (73.8 %)\n",
      "  • Classe 1: 457 images (26.2 %)\n"
     ]
    },
    {
     "data": {
      "image/png": "[encoded data removed]",
      "text/plain": [
       "<Figure size 600x400 with 1 Axes>"
      ]
     },
     "metadata": {},
     "output_type": "display_data"
    }
   ],
   "source": [
    "# Stats\n",
    "distribution = df['binary_DR'].value_counts().sort_index()\n",
    "total        = len(df)\n",
    "\n",
    "# Text\n",
    "print(f\"Total images : {total}\\n\")\n",
    "print(\"Binary Classes distribution (0 = No/Low DR, 1 = mild to severe DR) :\")\n",
    "for label, count in distribution.items():\n",
    "    pct = 100 * count / total\n",
    "    print(f\"  • Classe {label}: {count} images ({pct:.1f} %)\")\n",
    "\n",
    "# Graph\n",
    "labels = ['No/Low DR (0)', 'Moderate/Severe DR (1)']\n",
    "counts = distribution.values\n",
    "percents = 100 * counts / total\n",
    "\n",
    "plt.figure(figsize=(6,4))\n",
    "bars = plt.bar(labels, counts, color=['tab:blue', 'tab:red'])\n",
    "\n",
    "plt.title(\"Binary classes distribution for DR (Messidor)\")\n",
    "plt.ylabel(\"Number of images\")\n",
    "plt.grid(axis='y', linestyle='--', alpha=0.6)\n",
    "plt.tight_layout()\n",
    "plt.show()"
   ]
  },
  {
   "cell_type": "markdown",
   "metadata": {},
   "source": [
    "We have imbalanced distribution between class 1 and 0. We may want to try to use over-sampling on class 1 just as we did for the Lamphun dataset before"
   ]
  },
  {
   "cell_type": "code",
   "execution_count": 5,
   "metadata": {},
   "outputs": [],
   "source": [
    "# Paths\n",
    "BASE_DIR   = Path(\"../images/messidor_2\")\n",
    "CSV_PATH   = BASE_DIR / \"messidor_data.csv\"\n",
    "DST_ROOT   = Path(\"data\") # RETFound images folder\n",
    "\n",
    "# Load and binary\n",
    "df = pd.read_csv(CSV_PATH)\n",
    "df[\"binary_DR\"] = df[\"diagnosis\"].apply(lambda x: 0 if x in [0, 1] else 1)\n",
    "\n",
    "# Absolute path if images\n",
    "df[\"filepath\"] = df[\"id_code\"].apply(lambda f: str(BASE_DIR / f))"
   ]
  },
  {
   "cell_type": "code",
   "execution_count": 6,
   "metadata": {},
   "outputs": [],
   "source": [
    "SPLIT = {\"train\": 0.7, \"val\": 0.2, \"test\": 0.1}\n",
    "\n",
    "# Split test (10%) from the full dataset\n",
    "sss1 = StratifiedShuffleSplit(n_splits=1, test_size=SPLIT[\"test\"], random_state=974)\n",
    "trainval_idx, test_idx = next(sss1.split(df, df[\"binary_DR\"]))\n",
    "df_trainval = df.iloc[trainval_idx].reset_index(drop=True)\n",
    "df_test     = df.iloc[test_idx].reset_index(drop=True)\n",
    "\n",
    "# Split val (20%) and train (70%) from the trainval\n",
    "val_ratio = SPLIT[\"val\"] / (SPLIT[\"train\"] + SPLIT[\"val\"])  # = 0.2 / 0.9 ≈ 0.222\n",
    "sss2 = StratifiedShuffleSplit(n_splits=1, test_size=val_ratio, random_state=974)\n",
    "train_idx, val_idx = next(sss2.split(df_trainval, df_trainval[\"binary_DR\"]))\n",
    "df_train = df_trainval.iloc[train_idx].reset_index(drop=True)\n",
    "df_val   = df_trainval.iloc[val_idx].reset_index(drop=True)\n",
    "\n",
    "# Oversamplimpg the minority class (on training set only)\n",
    "ros = RandomOverSampler(random_state=974)\n",
    "X_over, y_over = ros.fit_resample(df_train[[\"filepath\"]], df_train[\"binary_DR\"])\n",
    "df_train_balanced = df_train.set_index(\"filepath\").loc[X_over[\"filepath\"]].reset_index()\n",
    "df_train_balanced[\"binary_DR\"] = y_over"
   ]
  },
  {
   "cell_type": "code",
   "execution_count": 7,
   "metadata": {
    "scrolled": true
   },
   "outputs": [
    {
     "name": "stdout",
     "output_type": "stream",
     "text": [
      "Train:\n",
      "binary_DR\n",
      "0    900\n",
      "1    900\n",
      "Name: count, dtype: int64\n",
      "\n",
      "Val:\n",
      "binary_DR\n",
      "0    258\n",
      "1     91\n",
      "Name: count, dtype: int64\n",
      "\n",
      "Test:\n",
      "binary_DR\n",
      "0    129\n",
      "1     46\n",
      "Name: count, dtype: int64\n"
     ]
    }
   ],
   "source": [
    "print(\"Train:\")\n",
    "print(df_train_balanced[\"binary_DR\"].value_counts())\n",
    "print(\"\\nVal:\")\n",
    "print(df_val[\"binary_DR\"].value_counts())\n",
    "print(\"\\nTest:\")\n",
    "print(df_test[\"binary_DR\"].value_counts())"
   ]
  },
  {
   "cell_type": "code",
   "execution_count": 8,
   "metadata": {},
   "outputs": [],
   "source": [
    "# Create folder for RETFound classes\n",
    "for split_name in [\"train\", \"val\", \"test\"]:\n",
    "    for class_value in [0, 1]:\n",
    "        class_name = f\"{class_value}\" if class_value == 0 else f\"{class_value}\"\n",
    "        target_dir = os.path.join(\"./data\", split_name, class_name)\n",
    "        os.makedirs(target_dir, exist_ok=True)"
   ]
  },
  {
   "cell_type": "code",
   "execution_count": 9,
   "metadata": {},
   "outputs": [
    {
     "name": "stderr",
     "output_type": "stream",
     "text": [
      "Copying train: 100%|██████████████████████████████████████████████████████████████████████████████████████████████████████████████████████████████| 1800/1800 [00:01<00:00, 1327.88it/s]\n",
      "Copying val: 100%|██████████████████████████████████████████████████████████████████████████████████████████████████████████████████████████████████| 349/349 [00:00<00:00, 1113.12it/s]\n",
      "Copying test: 100%|█████████████████████████████████████████████████████████████████████████████████████████████████████████████████████████████████| 175/175 [00:00<00:00, 1039.82it/s]\n"
     ]
    }
   ],
   "source": [
    "import shutil\n",
    "from tqdm import tqdm\n",
    "\n",
    "# New name column for oversampled data\n",
    "df_train_balanced = df_train_balanced.reset_index(drop=True)\n",
    "df_train_balanced[\"new_filename\"] = df_train_balanced.index.astype(str) + \"_\" + df_train_balanced[\"id_code\"]\n",
    "df_val[\"new_filename\"] = df_val[\"id_code\"]\n",
    "df_test[\"new_filename\"] = df_test[\"id_code\"]\n",
    "\n",
    "# Regroup splits\n",
    "splits = {\n",
    "    \"train\": df_train_balanced,\n",
    "    \"val\": df_val,\n",
    "    \"test\": df_test\n",
    "}\n",
    "\n",
    "# Folder per split per class\n",
    "base_dir = Path(\"data\")\n",
    "for split_name, df_split in splits.items():\n",
    "    for class_value in [0, 1]:\n",
    "        class_name = f\"{class_value}\" if class_value == 0 else f\"{class_value}\"\n",
    "        target_dir = base_dir / split_name / class_name\n",
    "        target_dir.mkdir(parents=True, exist_ok=True)\n",
    "\n",
    "# Copy images\n",
    "for split_name, df_split in splits.items():\n",
    "    for idx, row in tqdm(df_split.iterrows(), total=len(df_split), desc=f\"Copying {split_name}\"):\n",
    "        class_value = row[\"binary_DR\"]\n",
    "        class_name = f\"{class_value}\" if class_value == 0 else f\"{class_value}\"\n",
    "\n",
    "        src = Path(row[\"filepath\"])\n",
    "        dst_filename = row[\"new_filename\"] + src.suffix\n",
    "        dst = base_dir / split_name / class_name / dst_filename\n",
    "\n",
    "        if src.exists():\n",
    "            shutil.copy2(src, dst)\n",
    "        else:\n",
    "            print(f\"[WARNING] File not found: {src}\")"
   ]
  },
  {
   "cell_type": "code",
   "execution_count": 10,
   "metadata": {
    "scrolled": true
   },
   "outputs": [
    {
     "data": {
      "text/html": [
       "<style type=\"text/css\">\n",
       "</style>\n",
       "<table id=\"T_34fcb\">\n",
       "  <thead>\n",
       "    <tr>\n",
       "      <th class=\"blank level0\" >&nbsp;</th>\n",
       "      <th id=\"T_34fcb_level0_col0\" class=\"col_heading level0 col0\" >n_total</th>\n",
       "      <th id=\"T_34fcb_level0_col1\" class=\"col_heading level0 col1\" >n_1</th>\n",
       "      <th id=\"T_34fcb_level0_col2\" class=\"col_heading level0 col2\" >n_0</th>\n",
       "      <th id=\"T_34fcb_level0_col3\" class=\"col_heading level0 col3\" >%_1</th>\n",
       "      <th id=\"T_34fcb_level0_col4\" class=\"col_heading level0 col4\" >%_0</th>\n",
       "    </tr>\n",
       "    <tr>\n",
       "      <th class=\"index_name level0\" >split</th>\n",
       "      <th class=\"blank col0\" >&nbsp;</th>\n",
       "      <th class=\"blank col1\" >&nbsp;</th>\n",
       "      <th class=\"blank col2\" >&nbsp;</th>\n",
       "      <th class=\"blank col3\" >&nbsp;</th>\n",
       "      <th class=\"blank col4\" >&nbsp;</th>\n",
       "    </tr>\n",
       "  </thead>\n",
       "  <tbody>\n",
       "    <tr>\n",
       "      <th id=\"T_34fcb_level0_row0\" class=\"row_heading level0 row0\" >train</th>\n",
       "      <td id=\"T_34fcb_row0_col0\" class=\"data row0 col0\" >1800</td>\n",
       "      <td id=\"T_34fcb_row0_col1\" class=\"data row0 col1\" >900</td>\n",
       "      <td id=\"T_34fcb_row0_col2\" class=\"data row0 col2\" >900</td>\n",
       "      <td id=\"T_34fcb_row0_col3\" class=\"data row0 col3\" >50.00</td>\n",
       "      <td id=\"T_34fcb_row0_col4\" class=\"data row0 col4\" >50.00</td>\n",
       "    </tr>\n",
       "    <tr>\n",
       "      <th id=\"T_34fcb_level0_row1\" class=\"row_heading level0 row1\" >val</th>\n",
       "      <td id=\"T_34fcb_row1_col0\" class=\"data row1 col0\" >349</td>\n",
       "      <td id=\"T_34fcb_row1_col1\" class=\"data row1 col1\" >91</td>\n",
       "      <td id=\"T_34fcb_row1_col2\" class=\"data row1 col2\" >258</td>\n",
       "      <td id=\"T_34fcb_row1_col3\" class=\"data row1 col3\" >26.07</td>\n",
       "      <td id=\"T_34fcb_row1_col4\" class=\"data row1 col4\" >73.93</td>\n",
       "    </tr>\n",
       "    <tr>\n",
       "      <th id=\"T_34fcb_level0_row2\" class=\"row_heading level0 row2\" >test</th>\n",
       "      <td id=\"T_34fcb_row2_col0\" class=\"data row2 col0\" >175</td>\n",
       "      <td id=\"T_34fcb_row2_col1\" class=\"data row2 col1\" >46</td>\n",
       "      <td id=\"T_34fcb_row2_col2\" class=\"data row2 col2\" >129</td>\n",
       "      <td id=\"T_34fcb_row2_col3\" class=\"data row2 col3\" >26.29</td>\n",
       "      <td id=\"T_34fcb_row2_col4\" class=\"data row2 col4\" >73.71</td>\n",
       "    </tr>\n",
       "  </tbody>\n",
       "</table>\n"
      ],
      "text/plain": [
       "<pandas.io.formats.style.Styler at 0x7fbdc5634850>"
      ]
     },
     "metadata": {},
     "output_type": "display_data"
    }
   ],
   "source": [
    "# Path\n",
    "ROOT = \"./data\"\n",
    "\n",
    "# Classes and extension\n",
    "CLASSES = [\"1\", \"0\"]\n",
    "EXTS = (\".jpg\", \".jpeg\", \".png\")\n",
    "\n",
    "# Collect and count\n",
    "rows = []\n",
    "for split in [\"train\", \"val\", \"test\"]:\n",
    "    split_dir = os.path.join(ROOT, split)\n",
    "    if not os.path.isdir(split_dir):\n",
    "        print(f\"no folders : {split_dir}\")\n",
    "        continue\n",
    "        \n",
    "    total_split = 0\n",
    "    counts = {}\n",
    "    for cls in CLASSES:\n",
    "        pattern = os.path.join(split_dir, cls, \"**\", \"*\")\n",
    "        n_imgs = sum(1 for f in glob.iglob(pattern, recursive=True)\n",
    "                     if f.lower().endswith(EXTS) and os.path.isfile(f))\n",
    "        counts[cls] = n_imgs\n",
    "        total_split += n_imgs\n",
    "\n",
    "    rows.append({\n",
    "        \"split\": split,\n",
    "        \"n_total\": total_split,\n",
    "        **{f\"n_{cls}\": counts[cls] for cls in CLASSES},\n",
    "        **{f\"%_{cls}\": counts[cls] * 100 / total_split if total_split else 0 for cls in CLASSES},\n",
    "    })\n",
    "\n",
    "df_counts = pd.DataFrame(rows)\n",
    "df_counts.set_index(\"split\", inplace=True)\n",
    "df_counts = df_counts[[\"n_total\"] +\n",
    "                      [f\"n_{c}\" for c in CLASSES] +\n",
    "                      [f\"%_{c}\" for c in CLASSES]]\n",
    "\n",
    "display(df_counts.style.format(precision=2))"
   ]
  },
  {
   "cell_type": "markdown",
   "metadata": {},
   "source": [
    "\n"
   ]
  },
  {
   "cell_type": "markdown",
   "metadata": {},
   "source": [
    "\n"
   ]
  },
  {
   "cell_type": "markdown",
   "metadata": {},
   "source": [
    "\n"
   ]
  },
  {
   "cell_type": "markdown",
   "metadata": {},
   "source": [
    "\n"
   ]
  },
  {
   "cell_type": "markdown",
   "metadata": {},
   "source": [
    "\n"
   ]
  },
  {
   "cell_type": "markdown",
   "metadata": {},
   "source": [
    "\n"
   ]
  },
  {
   "cell_type": "markdown",
   "metadata": {},
   "source": [
    "\n"
   ]
  },
  {
   "cell_type": "markdown",
   "metadata": {},
   "source": [
    "\n"
   ]
  },
  {
   "cell_type": "markdown",
   "metadata": {},
   "source": [
    "\n"
   ]
  },
  {
   "cell_type": "markdown",
   "metadata": {},
   "source": [
    "# Multi-class copy (e.g Messidor-2)"
   ]
  },
  {
   "cell_type": "code",
   "execution_count": 1,
   "metadata": {},
   "outputs": [],
   "source": [
    "import pandas as pd\n",
    "import numpy as np\n",
    "import matplotlib.pyplot as plt\n",
    "import os, io, random, math, glob, shutil\n",
    "\n",
    "from tqdm import tqdm\n",
    "from sklearn.model_selection import train_test_split, StratifiedShuffleSplit, StratifiedKFold\n",
    "from imblearn.over_sampling import RandomOverSampler\n",
    "from pathlib import Path\n",
    "from PIL import Image, ImageEnhance, ImageFilter, ImageOps, ImageDraw, ImageChops"
   ]
  },
  {
   "cell_type": "code",
   "execution_count": 2,
   "metadata": {},
   "outputs": [
    {
     "data": {
      "text/html": [
       "<div>\n",
       "<style scoped>\n",
       "    .dataframe tbody tr th:only-of-type {\n",
       "        vertical-align: middle;\n",
       "    }\n",
       "\n",
       "    .dataframe tbody tr th {\n",
       "        vertical-align: top;\n",
       "    }\n",
       "\n",
       "    .dataframe thead th {\n",
       "        text-align: right;\n",
       "    }\n",
       "</style>\n",
       "<table border=\"1\" class=\"dataframe\">\n",
       "  <thead>\n",
       "    <tr style=\"text-align: right;\">\n",
       "      <th></th>\n",
       "      <th>id_code</th>\n",
       "      <th>diagnosis</th>\n",
       "      <th>adjudicated_dme</th>\n",
       "      <th>adjudicated_gradable</th>\n",
       "    </tr>\n",
       "  </thead>\n",
       "  <tbody>\n",
       "    <tr>\n",
       "      <th>0</th>\n",
       "      <td>20051020_43808_0100_PP.png</td>\n",
       "      <td>0</td>\n",
       "      <td>0</td>\n",
       "      <td>1</td>\n",
       "    </tr>\n",
       "    <tr>\n",
       "      <th>1</th>\n",
       "      <td>20051020_43832_0100_PP.png</td>\n",
       "      <td>1</td>\n",
       "      <td>0</td>\n",
       "      <td>1</td>\n",
       "    </tr>\n",
       "    <tr>\n",
       "      <th>2</th>\n",
       "      <td>20051020_43882_0100_PP.png</td>\n",
       "      <td>1</td>\n",
       "      <td>0</td>\n",
       "      <td>1</td>\n",
       "    </tr>\n",
       "    <tr>\n",
       "      <th>3</th>\n",
       "      <td>20051020_43906_0100_PP.png</td>\n",
       "      <td>2</td>\n",
       "      <td>1</td>\n",
       "      <td>1</td>\n",
       "    </tr>\n",
       "    <tr>\n",
       "      <th>4</th>\n",
       "      <td>20051020_44261_0100_PP.png</td>\n",
       "      <td>0</td>\n",
       "      <td>0</td>\n",
       "      <td>1</td>\n",
       "    </tr>\n",
       "    <tr>\n",
       "      <th>...</th>\n",
       "      <td>...</td>\n",
       "      <td>...</td>\n",
       "      <td>...</td>\n",
       "      <td>...</td>\n",
       "    </tr>\n",
       "    <tr>\n",
       "      <th>1739</th>\n",
       "      <td>IM004806.JPG</td>\n",
       "      <td>0</td>\n",
       "      <td>0</td>\n",
       "      <td>1</td>\n",
       "    </tr>\n",
       "    <tr>\n",
       "      <th>1740</th>\n",
       "      <td>IM004811.JPG</td>\n",
       "      <td>1</td>\n",
       "      <td>0</td>\n",
       "      <td>1</td>\n",
       "    </tr>\n",
       "    <tr>\n",
       "      <th>1741</th>\n",
       "      <td>IM004812.JPG</td>\n",
       "      <td>2</td>\n",
       "      <td>0</td>\n",
       "      <td>1</td>\n",
       "    </tr>\n",
       "    <tr>\n",
       "      <th>1742</th>\n",
       "      <td>IM004831.JPG</td>\n",
       "      <td>0</td>\n",
       "      <td>0</td>\n",
       "      <td>1</td>\n",
       "    </tr>\n",
       "    <tr>\n",
       "      <th>1743</th>\n",
       "      <td>IM004832.JPG</td>\n",
       "      <td>0</td>\n",
       "      <td>0</td>\n",
       "      <td>1</td>\n",
       "    </tr>\n",
       "  </tbody>\n",
       "</table>\n",
       "<p>1744 rows × 4 columns</p>\n",
       "</div>"
      ],
      "text/plain": [
       "                         id_code  diagnosis  adjudicated_dme  \\\n",
       "0     20051020_43808_0100_PP.png          0                0   \n",
       "1     20051020_43832_0100_PP.png          1                0   \n",
       "2     20051020_43882_0100_PP.png          1                0   \n",
       "3     20051020_43906_0100_PP.png          2                1   \n",
       "4     20051020_44261_0100_PP.png          0                0   \n",
       "...                          ...        ...              ...   \n",
       "1739                IM004806.JPG          0                0   \n",
       "1740                IM004811.JPG          1                0   \n",
       "1741                IM004812.JPG          2                0   \n",
       "1742                IM004831.JPG          0                0   \n",
       "1743                IM004832.JPG          0                0   \n",
       "\n",
       "      adjudicated_gradable  \n",
       "0                        1  \n",
       "1                        1  \n",
       "2                        1  \n",
       "3                        1  \n",
       "4                        1  \n",
       "...                    ...  \n",
       "1739                     1  \n",
       "1740                     1  \n",
       "1741                     1  \n",
       "1742                     1  \n",
       "1743                     1  \n",
       "\n",
       "[1744 rows x 4 columns]"
      ]
     },
     "execution_count": 2,
     "metadata": {},
     "output_type": "execute_result"
    }
   ],
   "source": [
    "# CSV\n",
    "df = pd.read_csv(\"../images/messidor_2/messidor_data.csv\")\n",
    "\n",
    "df"
   ]
  },
  {
   "cell_type": "code",
   "execution_count": 3,
   "metadata": {},
   "outputs": [
    {
     "name": "stdout",
     "output_type": "stream",
     "text": [
      "Distribution :\n",
      "diagnosis\n",
      "0    1017\n",
      "1     270\n",
      "2     347\n",
      "3      75\n",
      "4      35\n",
      "Name: count, dtype: int64\n"
     ]
    },
    {
     "data": {
      "image/png": "[encoded data removed]",
      "text/plain": [
       "<Figure size 800x600 with 1 Axes>"
      ]
     },
     "metadata": {},
     "output_type": "display_data"
    }
   ],
   "source": [
    "diagnosis_counts = df['diagnosis'].value_counts().sort_index()\n",
    "\n",
    "# Print\n",
    "print(\"Distribution :\")\n",
    "print(diagnosis_counts)\n",
    "\n",
    "# Graph\n",
    "plt.figure(figsize=(8, 6))\n",
    "bars = plt.bar(diagnosis_counts.index.astype(str), diagnosis_counts.values)\n",
    "\n",
    "for bar in bars:\n",
    "    yval = bar.get_height()\n",
    "    plt.text(bar.get_x() + bar.get_width() / 2, yval + 5, int(yval), ha='center', va='bottom')\n",
    "\n",
    "plt.title(\"Distribution of diagnostic\")\n",
    "plt.xlabel(\"Diagnostic\")\n",
    "plt.ylabel(\"Number of images\")\n",
    "plt.grid(axis='y', linestyle='--', alpha=0.7)\n",
    "plt.tight_layout()\n",
    "plt.show()"
   ]
  },
  {
   "cell_type": "code",
   "execution_count": null,
   "metadata": {},
   "outputs": [],
   "source": [
    "for split_name in [\"train\", \"val\", \"test\"]:\n",
    "    for class_value in range(5):  # classes 0 à 4\n",
    "        class_name = str(class_value)\n",
    "        target_dir = os.path.join(\"./data\", split_name, class_name)\n",
    "        os.makedirs(target_dir, exist_ok=True)"
   ]
  },
  {
   "cell_type": "code",
   "execution_count": null,
   "metadata": {},
   "outputs": [],
   "source": [
    "# Configuration\n",
    "image_dir = \"./images/messidor_2\" \n",
    "output_dir = \"./data\"\n",
    "os.makedirs(output_dir, exist_ok=True)\n",
    "random.seed(974)\n",
    "\n",
    "# Stratified split 70/20/10\n",
    "train_df, temp_df = train_test_split(df, test_size=0.3, stratify=df['diagnosis'], random_state=974)\n",
    "val_df, test_df = train_test_split(temp_df, test_size=1/3, stratify=temp_df['diagnosis'], random_state=974)"
   ]
  },
  {
   "cell_type": "code",
   "execution_count": null,
   "metadata": {},
   "outputs": [],
   "source": [
    "def augment_image(image_path, save_path):\n",
    "    img = Image.open(image_path).convert(\"RGB\")\n",
    "    if random.random() < 0.5:\n",
    "        img = img.transpose(Image.FLIP_LEFT_RIGHT)\n",
    "    if random.random() < 0.5:\n",
    "        img = img.rotate(random.uniform(-15, 15))\n",
    "    contrast = ImageEnhance.Contrast(img)\n",
    "    img = contrast.enhance(random.uniform(0.8, 1.2))\n",
    "    img.save(save_path)"
   ]
  },
  {
   "cell_type": "code",
   "execution_count": null,
   "metadata": {},
   "outputs": [],
   "source": [
    "# There so low class 3 and 4 that we are not going to oversampled them all the way to the same number as class 0\n",
    "# That's why we will be using a moderate oversampling + random images augmentation + weighted classes\n",
    "oversample_target = {1: 500, 2: 500, 3: 300, 4: 250}\n",
    "augmented_rows = []\n",
    "\n",
    "for cls, target in oversample_target.items():\n",
    "    cls_subset = train_df[train_df[\"diagnosis\"] == cls]\n",
    "    n_current = len(cls_subset)\n",
    "    if n_current >= target:\n",
    "        continue\n",
    "\n",
    "    needed = target - n_current\n",
    "    multiplier = needed // n_current\n",
    "    remainder = needed % n_current\n",
    "\n",
    "    for i in range(multiplier):\n",
    "        for _, row in cls_subset.iterrows():\n",
    "            src = os.path.join(image_dir, row[\"id_code\"])\n",
    "            base_name, ext = os.path.splitext(row[\"id_code\"])\n",
    "            new_id = f\"{base_name}_aug{i}{ext}\"\n",
    "            dst_dir = os.path.join(output_dir, \"train\", str(cls))\n",
    "            os.makedirs(dst_dir, exist_ok=True)\n",
    "            dst_path = os.path.join(dst_dir, new_id)\n",
    "            augment_image(src, dst_path)\n",
    "            new_row = row.copy()\n",
    "            new_row[\"id_code\"] = new_id\n",
    "            augmented_rows.append(new_row)\n",
    "\n",
    "    for _, row in cls_subset.sample(n=remainder, random_state=974).iterrows():\n",
    "        src = os.path.join(image_dir, row[\"id_code\"])\n",
    "        base_name, ext = os.path.splitext(row[\"id_code\"])\n",
    "        new_id = f\"{base_name}_augX{ext}\"\n",
    "        dst_dir = os.path.join(output_dir, \"train\", str(cls))\n",
    "        os.makedirs(dst_dir, exist_ok=True)\n",
    "        dst_path = os.path.join(dst_dir, new_id)\n",
    "        augment_image(src, dst_path)\n",
    "        new_row = row.copy()\n",
    "        new_row[\"id_code\"] = new_id\n",
    "        augmented_rows.append(new_row)\n"
   ]
  },
  {
   "cell_type": "code",
   "execution_count": null,
   "metadata": {},
   "outputs": [],
   "source": [
    "# Final train (no need to oversample nor images augmentation on val and test)\n",
    "aug_df = pd.DataFrame(augmented_rows)\n",
    "train_df_final = pd.concat([train_df, aug_df], ignore_index=True)"
   ]
  },
  {
   "cell_type": "code",
   "execution_count": null,
   "metadata": {},
   "outputs": [],
   "source": [
    "def copy_images_to_class_folders(df_split, split_name):\n",
    "    for _, row in df_split.iterrows():\n",
    "        class_dir = os.path.join(output_dir, split_name, str(row[\"diagnosis\"]))\n",
    "        os.makedirs(class_dir, exist_ok=True)\n",
    "\n",
    "        src_path = os.path.join(image_dir, row[\"id_code\"])  \n",
    "        dst_path = os.path.join(class_dir, row[\"id_code\"])  \n",
    "\n",
    "        if not os.path.exists(dst_path): \n",
    "            try:\n",
    "                shutil.copyfile(src_path, dst_path)\n",
    "            except FileNotFoundError:\n",
    "                print(f\"File not found : {src_path}\")"
   ]
  },
  {
   "cell_type": "code",
   "execution_count": null,
   "metadata": {},
   "outputs": [],
   "source": [
    "# Copy\n",
    "copy_images_to_class_folders(train_df, \"train\")\n",
    "copy_images_to_class_folders(val_df, \"val\")\n",
    "copy_images_to_class_folders(test_df, \"test\")\n",
    "\n",
    "# Affichage des distributions finales\n",
    "print(\"New distribution :\")\n",
    "print(\"Train :\\n\", train_df_final[\"diagnosis\"].value_counts().sort_index())\n",
    "print(\"Val   :\\n\", val_df[\"diagnosis\"].value_counts().sort_index())\n",
    "print(\"Test  :\\n\", test_df[\"diagnosis\"].value_counts().sort_index())"
   ]
  },
  {
   "cell_type": "markdown",
   "metadata": {},
   "source": [
    "\n"
   ]
  },
  {
   "cell_type": "markdown",
   "metadata": {},
   "source": [
    "\n"
   ]
  },
  {
   "cell_type": "markdown",
   "metadata": {},
   "source": [
    "\n"
   ]
  },
  {
   "cell_type": "markdown",
   "metadata": {},
   "source": [
    "\n"
   ]
  },
  {
   "cell_type": "markdown",
   "metadata": {},
   "source": [
    "\n"
   ]
  },
  {
   "cell_type": "markdown",
   "metadata": {},
   "source": [
    "\n"
   ]
  },
  {
   "cell_type": "markdown",
   "metadata": {},
   "source": [
    "\n"
   ]
  },
  {
   "cell_type": "markdown",
   "metadata": {},
   "source": [
    "\n"
   ]
  },
  {
   "cell_type": "markdown",
   "metadata": {},
   "source": [
    "\n"
   ]
  },
  {
   "cell_type": "markdown",
   "metadata": {},
   "source": [
    "# Unlabelled data copy for inference"
   ]
  },
  {
   "cell_type": "markdown",
   "metadata": {},
   "source": [
    "The following code is used to copy unlabelled data into RETFound_MAE/data/test/dummy to make prediction by a fine-tuned model."
   ]
  },
  {
   "cell_type": "code",
   "execution_count": 11,
   "metadata": {},
   "outputs": [
    {
     "name": "stdout",
     "output_type": "stream",
     "text": [
      "Number of images found : 10000\n"
     ]
    },
    {
     "name": "stderr",
     "output_type": "stream",
     "text": [
      "Copy to test: 100%|██████████████████████████████████████████████████████████████████████████████████████████████████████████████████████████████| 10000/10000 [00:42<00:00, 234.61it/s]"
     ]
    },
    {
     "name": "stdout",
     "output_type": "stream",
     "text": [
      "1 image copied to train/dummy and 1 to val/dummy.\n",
      "Done.\n"
     ]
    },
    {
     "name": "stderr",
     "output_type": "stream",
     "text": [
      "\n"
     ]
    }
   ],
   "source": [
    "import os\n",
    "import shutil\n",
    "from tqdm import tqdm\n",
    "\n",
    "# Source folder with unlabelled images\n",
    "src_dir = \"../images/chula/10k_images\"\n",
    "\n",
    "# Create folders for RETFound classes\n",
    "splits = [\"train\", \"val\", \"test\"]\n",
    "for split_name in splits:\n",
    "    target_dir = os.path.join(\"./data\", split_name, \"dummy\")\n",
    "    os.makedirs(target_dir, exist_ok=True)\n",
    "\n",
    "# Destination for bulk copy\n",
    "test_dst_dir = \"./data/test/dummy\"\n",
    "\n",
    "# List all image files\n",
    "image_files = sorted([\n",
    "    f for f in os.listdir(src_dir)\n",
    "    if f.lower().endswith(('.png', '.jpg', '.jpeg'))\n",
    "])\n",
    "\n",
    "print(f\"Number of images found : {len(image_files)}\")\n",
    "\n",
    "# Copy ALL images to test/dummy\n",
    "for filename in tqdm(image_files, desc=\"Copy to test\"):\n",
    "    src_path = os.path.join(src_dir, filename)\n",
    "    dst_path = os.path.join(test_dst_dir, filename)\n",
    "    shutil.copy2(src_path, dst_path)\n",
    "\n",
    "# Copy one image to train/dummy and another to val/dummy\n",
    "if len(image_files) >= 2:\n",
    "    shutil.copy2(os.path.join(src_dir, image_files[0]),\n",
    "                 os.path.join(\"./data/train/dummy\", image_files[0]))\n",
    "    \n",
    "    shutil.copy2(os.path.join(src_dir, image_files[1]),\n",
    "                 os.path.join(\"./data/val/dummy\", image_files[1]))\n",
    "    print(\"1 image copied to train/dummy and 1 to val/dummy.\")\n",
    "else:\n",
    "    print(\"Not enough images to copy to train and val.\")\n",
    "\n",
    "print(\"Done.\")"
   ]
  },
  {
   "cell_type": "code",
   "execution_count": null,
   "metadata": {},
   "outputs": [],
   "source": []
  }
 ],
 "metadata": {
  "kernelspec": {
   "display_name": "Python 3",
   "language": "python",
   "name": "python3"
  },
  "language_info": {
   "codemirror_mode": {
    "name": "ipython",
    "version": 3
   },
   "file_extension": ".py",
   "mimetype": "text/x-python",
   "name": "python",
   "nbconvert_exporter": "python",
   "pygments_lexer": "ipython3",
   "version": "3.6.9"
  }
 },
 "nbformat": 4,
 "nbformat_minor": 5
}
