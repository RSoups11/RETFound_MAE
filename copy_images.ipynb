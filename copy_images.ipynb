{
 "cells": [
  {
   "cell_type": "markdown",
   "id": "8ea4cf8a",
   "metadata": {},
   "source": [
    "# Images Folder"
   ]
  },
  {
   "cell_type": "markdown",
   "id": "6cba3e33",
   "metadata": {},
   "source": [
    "Your images folder should be at the same level of the RETFoud_MAE cloned folder. \n",
    "\n",
    "```\n",
    "images/\n",
    "RETFound_MAE/\n",
    "    └── copy_images.ipynb\n",
    "```"
   ]
  },
  {
   "cell_type": "markdown",
   "id": "562a8214",
   "metadata": {},
   "source": [
    "# Binary copy with (e.g : Messidor-2)"
   ]
  },
  {
   "cell_type": "code",
   "execution_count": 2,
   "id": "8529e30f",
   "metadata": {},
   "outputs": [],
   "source": [
    "import pandas as pd\n",
    "import numpy as np\n",
    "import matplotlib.pyplot as plt\n",
    "import os, io, random, math, glob, shutil\n",
    "\n",
    "from tqdm import tqdm\n",
    "from sklearn.model_selection import train_test_split, StratifiedShuffleSplit, StratifiedKFold\n",
    "from imblearn.over_sampling import RandomOverSampler\n",
    "from pathlib import Path\n",
    "from PIL import Image, ImageEnhance, ImageFilter, ImageOps, ImageDraw, ImageChops"
   ]
  },
  {
   "cell_type": "code",
   "execution_count": 3,
   "id": "85cc3bfa",
   "metadata": {},
   "outputs": [
    {
     "data": {
      "text/html": [
       "<div>\n",
       "<style scoped>\n",
       "    .dataframe tbody tr th:only-of-type {\n",
       "        vertical-align: middle;\n",
       "    }\n",
       "\n",
       "    .dataframe tbody tr th {\n",
       "        vertical-align: top;\n",
       "    }\n",
       "\n",
       "    .dataframe thead th {\n",
       "        text-align: right;\n",
       "    }\n",
       "</style>\n",
       "<table border=\"1\" class=\"dataframe\">\n",
       "  <thead>\n",
       "    <tr style=\"text-align: right;\">\n",
       "      <th></th>\n",
       "      <th>id_code</th>\n",
       "      <th>diagnosis</th>\n",
       "      <th>binary_DR</th>\n",
       "    </tr>\n",
       "  </thead>\n",
       "  <tbody>\n",
       "    <tr>\n",
       "      <th>0</th>\n",
       "      <td>20051020_43808_0100_PP.png</td>\n",
       "      <td>0</td>\n",
       "      <td>0</td>\n",
       "    </tr>\n",
       "    <tr>\n",
       "      <th>1</th>\n",
       "      <td>20051020_43832_0100_PP.png</td>\n",
       "      <td>1</td>\n",
       "      <td>0</td>\n",
       "    </tr>\n",
       "    <tr>\n",
       "      <th>2</th>\n",
       "      <td>20051020_43882_0100_PP.png</td>\n",
       "      <td>1</td>\n",
       "      <td>0</td>\n",
       "    </tr>\n",
       "    <tr>\n",
       "      <th>3</th>\n",
       "      <td>20051020_43906_0100_PP.png</td>\n",
       "      <td>2</td>\n",
       "      <td>1</td>\n",
       "    </tr>\n",
       "    <tr>\n",
       "      <th>4</th>\n",
       "      <td>20051020_44261_0100_PP.png</td>\n",
       "      <td>0</td>\n",
       "      <td>0</td>\n",
       "    </tr>\n",
       "  </tbody>\n",
       "</table>\n",
       "</div>"
      ],
      "text/plain": [
       "                      id_code  diagnosis  binary_DR\n",
       "0  20051020_43808_0100_PP.png          0          0\n",
       "1  20051020_43832_0100_PP.png          1          0\n",
       "2  20051020_43882_0100_PP.png          1          0\n",
       "3  20051020_43906_0100_PP.png          2          1\n",
       "4  20051020_44261_0100_PP.png          0          0"
      ]
     },
     "execution_count": 3,
     "metadata": {},
     "output_type": "execute_result"
    }
   ],
   "source": [
    "# CSV\n",
    "df = pd.read_csv(\"../images/messidor_2/messidor_data.csv\")\n",
    "\n",
    "# Binary classification\n",
    "df['binary_DR'] = df['diagnosis'].apply(lambda x: 0 if x in [0, 1] else 1)\n",
    "\n",
    "# Check\n",
    "df[['id_code', 'diagnosis', 'binary_DR']].head()"
   ]
  },
  {
   "cell_type": "code",
   "execution_count": 4,
   "id": "18f23cd4",
   "metadata": {},
   "outputs": [
    {
     "name": "stdout",
     "output_type": "stream",
     "text": [
      "Total images : 1744\n",
      "\n",
      "Binary Classes distribution (0 = No/Low DR, 1 = mild to severe DR) :\n",
      "  • Classe 0: 1287 images (73.8 %)\n",
      "  • Classe 1: 457 images (26.2 %)\n"
     ]
    },
    {
     "data": {
      "image/png": "[encoded data removed]",
      "text/plain": [
       "<Figure size 600x400 with 1 Axes>"
      ]
     },
     "metadata": {},
     "output_type": "display_data"
    }
   ],
   "source": [
    "# Stats\n",
    "distribution = df['binary_DR'].value_counts().sort_index()\n",
    "total        = len(df)\n",
    "\n",
    "# Text\n",
    "print(f\"Total images : {total}\\n\")\n",
    "print(\"Binary Classes distribution (0 = No/Low DR, 1 = mild to severe DR) :\")\n",
    "for label, count in distribution.items():\n",
    "    pct = 100 * count / total\n",
    "    print(f\"  • Classe {label}: {count} images ({pct:.1f} %)\")\n",
    "\n",
    "# Graph\n",
    "labels = ['No/Low DR (0)', 'Moderate/Severe DR (1)']\n",
    "counts = distribution.values\n",
    "percents = 100 * counts / total\n",
    "\n",
    "plt.figure(figsize=(6,4))\n",
    "bars = plt.bar(labels, counts, color=['tab:blue', 'tab:red'])\n",
    "\n",
    "plt.title(\"Binary classes distribution for DR (Messidor)\")\n",
    "plt.ylabel(\"Number of images\")\n",
    "plt.grid(axis='y', linestyle='--', alpha=0.6)\n",
    "plt.tight_layout()\n",
    "plt.show()"
   ]
  },
  {
   "cell_type": "markdown",
   "id": "667491dc",
   "metadata": {},
   "source": [
    "We have imbalanced distribution between class 1 and 0. We may want to try to use over-sampling on class 1 just as we did for the Lamphun dataset before"
   ]
  },
  {
   "cell_type": "code",
   "execution_count": 5,
   "id": "16e3e1d7",
   "metadata": {},
   "outputs": [],
   "source": [
    "# Paths\n",
    "BASE_DIR   = Path(\"../images/messidor_2\")\n",
    "CSV_PATH   = BASE_DIR / \"messidor_data.csv\"\n",
    "DST_ROOT   = Path(\"data\") # RETFound images folder\n",
    "\n",
    "# Load and binary\n",
    "df = pd.read_csv(CSV_PATH)\n",
    "df[\"binary_DR\"] = df[\"diagnosis\"].apply(lambda x: 0 if x in [0, 1] else 1)\n",
    "\n",
    "# Absolute path if images\n",
    "df[\"filepath\"] = df[\"id_code\"].apply(lambda f: str(BASE_DIR / f))"
   ]
  },
  {
   "cell_type": "code",
   "execution_count": 6,
   "id": "aaf0fd8c",
   "metadata": {},
   "outputs": [],
   "source": [
    "SPLIT = {\"train\": 0.7, \"val\": 0.2, \"test\": 0.1}\n",
    "\n",
    "# Split test (10%) from the full dataset\n",
    "sss1 = StratifiedShuffleSplit(n_splits=1, test_size=SPLIT[\"test\"], random_state=974)\n",
    "trainval_idx, test_idx = next(sss1.split(df, df[\"binary_DR\"]))\n",
    "df_trainval = df.iloc[trainval_idx].reset_index(drop=True)\n",
    "df_test     = df.iloc[test_idx].reset_index(drop=True)\n",
    "\n",
    "# Split val (20%) and train (70%) from the trainval\n",
    "val_ratio = SPLIT[\"val\"] / (SPLIT[\"train\"] + SPLIT[\"val\"])  # = 0.2 / 0.9 ≈ 0.222\n",
    "sss2 = StratifiedShuffleSplit(n_splits=1, test_size=val_ratio, random_state=974)\n",
    "train_idx, val_idx = next(sss2.split(df_trainval, df_trainval[\"binary_DR\"]))\n",
    "df_train = df_trainval.iloc[train_idx].reset_index(drop=True)\n",
    "df_val   = df_trainval.iloc[val_idx].reset_index(drop=True)\n",
    "\n",
    "# Oversamplimpg the minority class (on training set only)\n",
    "ros = RandomOverSampler(random_state=974)\n",
    "X_over, y_over = ros.fit_resample(df_train[[\"filepath\"]], df_train[\"binary_DR\"])\n",
    "df_train_balanced = df_train.set_index(\"filepath\").loc[X_over[\"filepath\"]].reset_index()\n",
    "df_train_balanced[\"binary_DR\"] = y_over"
   ]
  },
  {
   "cell_type": "code",
   "execution_count": 7,
   "id": "79559ddc",
   "metadata": {
    "scrolled": true
   },
   "outputs": [
    {
     "name": "stdout",
     "output_type": "stream",
     "text": [
      "Train:\n",
      "binary_DR\n",
      "0    900\n",
      "1    900\n",
      "Name: count, dtype: int64\n",
      "\n",
      "Val:\n",
      "binary_DR\n",
      "0    258\n",
      "1     91\n",
      "Name: count, dtype: int64\n",
      "\n",
      "Test:\n",
      "binary_DR\n",
      "0    129\n",
      "1     46\n",
      "Name: count, dtype: int64\n"
     ]
    }
   ],
   "source": [
    "print(\"Train:\")\n",
    "print(df_train_balanced[\"binary_DR\"].value_counts())\n",
    "print(\"\\nVal:\")\n",
    "print(df_val[\"binary_DR\"].value_counts())\n",
    "print(\"\\nTest:\")\n",
    "print(df_test[\"binary_DR\"].value_counts())"
   ]
  },
  {
   "cell_type": "code",
   "execution_count": 8,
   "id": "ac775e6a",
   "metadata": {},
   "outputs": [],
   "source": [
    "# Create folder for RETFound classes\n",
    "for split_name in [\"train\", \"val\", \"test\"]:\n",
    "    for class_value in [0, 1]:\n",
    "        class_name = f\"{class_value}\" if class_value == 0 else f\"{class_value}\"\n",
    "        target_dir = os.path.join(\"./data\", split_name, class_name)\n",
    "        os.makedirs(target_dir, exist_ok=True)"
   ]
  },
  {
   "cell_type": "code",
   "execution_count": 9,
   "id": "468d2fd3",
   "metadata": {},
   "outputs": [
    {
     "name": "stderr",
     "output_type": "stream",
     "text": [
      "Copying train: 100%|██████████████████████████████████████████████████████████████████████████████████████████████████████████████████████████████| 1800/1800 [00:01<00:00, 1327.88it/s]\n",
      "Copying val: 100%|██████████████████████████████████████████████████████████████████████████████████████████████████████████████████████████████████| 349/349 [00:00<00:00, 1113.12it/s]\n",
      "Copying test: 100%|█████████████████████████████████████████████████████████████████████████████████████████████████████████████████████████████████| 175/175 [00:00<00:00, 1039.82it/s]\n"
     ]
    }
   ],
   "source": [
    "import shutil\n",
    "from tqdm import tqdm\n",
    "\n",
    "# New name column for oversampled data\n",
    "df_train_balanced = df_train_balanced.reset_index(drop=True)\n",
    "df_train_balanced[\"new_filename\"] = df_train_balanced.index.astype(str) + \"_\" + df_train_balanced[\"id_code\"]\n",
    "df_val[\"new_filename\"] = df_val[\"id_code\"]\n",
    "df_test[\"new_filename\"] = df_test[\"id_code\"]\n",
    "\n",
    "# Regroup splits\n",
    "splits = {\n",
    "    \"train\": df_train_balanced,\n",
    "    \"val\": df_val,\n",
    "    \"test\": df_test\n",
    "}\n",
    "\n",
    "# Folder per split per class\n",
    "base_dir = Path(\"data\")\n",
    "for split_name, df_split in splits.items():\n",
    "    for class_value in [0, 1]:\n",
    "        class_name = f\"{class_value}\" if class_value == 0 else f\"{class_value}\"\n",
    "        target_dir = base_dir / split_name / class_name\n",
    "        target_dir.mkdir(parents=True, exist_ok=True)\n",
    "\n",
    "# Copy images\n",
    "for split_name, df_split in splits.items():\n",
    "    for idx, row in tqdm(df_split.iterrows(), total=len(df_split), desc=f\"Copying {split_name}\"):\n",
    "        class_value = row[\"binary_DR\"]\n",
    "        class_name = f\"{class_value}\" if class_value == 0 else f\"{class_value}\"\n",
    "\n",
    "        src = Path(row[\"filepath\"])\n",
    "        dst_filename = row[\"new_filename\"] + src.suffix\n",
    "        dst = base_dir / split_name / class_name / dst_filename\n",
    "\n",
    "        if src.exists():\n",
    "            shutil.copy2(src, dst)\n",
    "        else:\n",
    "            print(f\"[WARNING] File not found: {src}\")"
   ]
  },
  {
   "cell_type": "code",
   "execution_count": 10,
   "id": "e98d5f9a",
   "metadata": {
    "scrolled": true
   },
   "outputs": [
    {
     "data": {
      "text/html": [
       "<style type=\"text/css\">\n",
       "</style>\n",
       "<table id=\"T_34fcb\">\n",
       "  <thead>\n",
       "    <tr>\n",
       "      <th class=\"blank level0\" >&nbsp;</th>\n",
       "      <th id=\"T_34fcb_level0_col0\" class=\"col_heading level0 col0\" >n_total</th>\n",
       "      <th id=\"T_34fcb_level0_col1\" class=\"col_heading level0 col1\" >n_1</th>\n",
       "      <th id=\"T_34fcb_level0_col2\" class=\"col_heading level0 col2\" >n_0</th>\n",
       "      <th id=\"T_34fcb_level0_col3\" class=\"col_heading level0 col3\" >%_1</th>\n",
       "      <th id=\"T_34fcb_level0_col4\" class=\"col_heading level0 col4\" >%_0</th>\n",
       "    </tr>\n",
       "    <tr>\n",
       "      <th class=\"index_name level0\" >split</th>\n",
       "      <th class=\"blank col0\" >&nbsp;</th>\n",
       "      <th class=\"blank col1\" >&nbsp;</th>\n",
       "      <th class=\"blank col2\" >&nbsp;</th>\n",
       "      <th class=\"blank col3\" >&nbsp;</th>\n",
       "      <th class=\"blank col4\" >&nbsp;</th>\n",
       "    </tr>\n",
       "  </thead>\n",
       "  <tbody>\n",
       "    <tr>\n",
       "      <th id=\"T_34fcb_level0_row0\" class=\"row_heading level0 row0\" >train</th>\n",
       "      <td id=\"T_34fcb_row0_col0\" class=\"data row0 col0\" >1800</td>\n",
       "      <td id=\"T_34fcb_row0_col1\" class=\"data row0 col1\" >900</td>\n",
       "      <td id=\"T_34fcb_row0_col2\" class=\"data row0 col2\" >900</td>\n",
       "      <td id=\"T_34fcb_row0_col3\" class=\"data row0 col3\" >50.00</td>\n",
       "      <td id=\"T_34fcb_row0_col4\" class=\"data row0 col4\" >50.00</td>\n",
       "    </tr>\n",
       "    <tr>\n",
       "      <th id=\"T_34fcb_level0_row1\" class=\"row_heading level0 row1\" >val</th>\n",
       "      <td id=\"T_34fcb_row1_col0\" class=\"data row1 col0\" >349</td>\n",
       "      <td id=\"T_34fcb_row1_col1\" class=\"data row1 col1\" >91</td>\n",
       "      <td id=\"T_34fcb_row1_col2\" class=\"data row1 col2\" >258</td>\n",
       "      <td id=\"T_34fcb_row1_col3\" class=\"data row1 col3\" >26.07</td>\n",
       "      <td id=\"T_34fcb_row1_col4\" class=\"data row1 col4\" >73.93</td>\n",
       "    </tr>\n",
       "    <tr>\n",
       "      <th id=\"T_34fcb_level0_row2\" class=\"row_heading level0 row2\" >test</th>\n",
       "      <td id=\"T_34fcb_row2_col0\" class=\"data row2 col0\" >175</td>\n",
       "      <td id=\"T_34fcb_row2_col1\" class=\"data row2 col1\" >46</td>\n",
       "      <td id=\"T_34fcb_row2_col2\" class=\"data row2 col2\" >129</td>\n",
       "      <td id=\"T_34fcb_row2_col3\" class=\"data row2 col3\" >26.29</td>\n",
       "      <td id=\"T_34fcb_row2_col4\" class=\"data row2 col4\" >73.71</td>\n",
       "    </tr>\n",
       "  </tbody>\n",
       "</table>\n"
      ],
      "text/plain": [
       "<pandas.io.formats.style.Styler at 0x7fbdc5634850>"
      ]
     },
     "metadata": {},
     "output_type": "display_data"
    }
   ],
   "source": [
    "# Path\n",
    "ROOT = \"./data\"\n",
    "\n",
    "# Classes and extension\n",
    "CLASSES = [\"1\", \"0\"]\n",
    "EXTS = (\".jpg\", \".jpeg\", \".png\")\n",
    "\n",
    "# Collect and count\n",
    "rows = []\n",
    "for split in [\"train\", \"val\", \"test\"]:\n",
    "    split_dir = os.path.join(ROOT, split)\n",
    "    if not os.path.isdir(split_dir):\n",
    "        print(f\"no folders : {split_dir}\")\n",
    "        continue\n",
    "        \n",
    "    total_split = 0\n",
    "    counts = {}\n",
    "    for cls in CLASSES:\n",
    "        pattern = os.path.join(split_dir, cls, \"**\", \"*\")\n",
    "        n_imgs = sum(1 for f in glob.iglob(pattern, recursive=True)\n",
    "                     if f.lower().endswith(EXTS) and os.path.isfile(f))\n",
    "        counts[cls] = n_imgs\n",
    "        total_split += n_imgs\n",
    "\n",
    "    rows.append({\n",
    "        \"split\": split,\n",
    "        \"n_total\": total_split,\n",
    "        **{f\"n_{cls}\": counts[cls] for cls in CLASSES},\n",
    "        **{f\"%_{cls}\": counts[cls] * 100 / total_split if total_split else 0 for cls in CLASSES},\n",
    "    })\n",
    "\n",
    "df_counts = pd.DataFrame(rows)\n",
    "df_counts.set_index(\"split\", inplace=True)\n",
    "df_counts = df_counts[[\"n_total\"] +\n",
    "                      [f\"n_{c}\" for c in CLASSES] +\n",
    "                      [f\"%_{c}\" for c in CLASSES]]\n",
    "\n",
    "display(df_counts.style.format(precision=2))"
   ]
  },
  {
   "cell_type": "markdown",
   "id": "5815d399",
   "metadata": {},
   "source": [
    "\n"
   ]
  },
  {
   "cell_type": "markdown",
   "id": "893afb14",
   "metadata": {},
   "source": [
    "\n"
   ]
  },
  {
   "cell_type": "markdown",
   "id": "f40dc339",
   "metadata": {},
   "source": [
    "\n"
   ]
  },
  {
   "cell_type": "markdown",
   "id": "c58200bf",
   "metadata": {},
   "source": [
    "\n"
   ]
  },
  {
   "cell_type": "markdown",
   "id": "6bb4f056",
   "metadata": {},
   "source": [
    "\n"
   ]
  },
  {
   "cell_type": "markdown",
   "id": "5960d223",
   "metadata": {},
   "source": [
    "\n"
   ]
  },
  {
   "cell_type": "markdown",
   "id": "8cc73025",
   "metadata": {},
   "source": [
    "\n"
   ]
  },
  {
   "cell_type": "markdown",
   "id": "5facf1ec",
   "metadata": {},
   "source": [
    "\n"
   ]
  },
  {
   "cell_type": "markdown",
   "id": "def97982",
   "metadata": {},
   "source": [
    "\n"
   ]
  },
  {
   "cell_type": "markdown",
   "id": "5a7ebacd",
   "metadata": {},
   "source": [
    "# Multi-class copy (e.g Messidor-2)"
   ]
  },
  {
   "cell_type": "code",
   "execution_count": 17,
   "id": "cd277cc2",
   "metadata": {},
   "outputs": [],
   "source": [
    "import pandas as pd\n",
    "import numpy as np\n",
    "import matplotlib.pyplot as plt\n",
    "import os, io, random, math, glob, shutil, re\n",
    "\n",
    "from tqdm import tqdm\n",
    "from sklearn.model_selection import train_test_split, StratifiedShuffleSplit, StratifiedKFold\n",
    "from imblearn.over_sampling import RandomOverSampler\n",
    "from pathlib import Path\n",
    "from PIL import Image, ImageEnhance, ImageFilter, ImageOps, ImageDraw, ImageChops\n",
    "from collections import Counter"
   ]
  },
  {
   "cell_type": "code",
   "execution_count": 22,
   "id": "51305099",
   "metadata": {},
   "outputs": [
    {
     "data": {
      "text/html": [
       "<div>\n",
       "<style scoped>\n",
       "    .dataframe tbody tr th:only-of-type {\n",
       "        vertical-align: middle;\n",
       "    }\n",
       "\n",
       "    .dataframe tbody tr th {\n",
       "        vertical-align: top;\n",
       "    }\n",
       "\n",
       "    .dataframe thead th {\n",
       "        text-align: right;\n",
       "    }\n",
       "</style>\n",
       "<table border=\"1\" class=\"dataframe\">\n",
       "  <thead>\n",
       "    <tr style=\"text-align: right;\">\n",
       "      <th></th>\n",
       "      <th>id_code</th>\n",
       "      <th>diagnosis</th>\n",
       "      <th>adjudicated_dme</th>\n",
       "      <th>adjudicated_gradable</th>\n",
       "    </tr>\n",
       "  </thead>\n",
       "  <tbody>\n",
       "    <tr>\n",
       "      <th>0</th>\n",
       "      <td>20051020_43808_0100_PP.png</td>\n",
       "      <td>0</td>\n",
       "      <td>0</td>\n",
       "      <td>1</td>\n",
       "    </tr>\n",
       "    <tr>\n",
       "      <th>1</th>\n",
       "      <td>20051020_43832_0100_PP.png</td>\n",
       "      <td>1</td>\n",
       "      <td>0</td>\n",
       "      <td>1</td>\n",
       "    </tr>\n",
       "    <tr>\n",
       "      <th>2</th>\n",
       "      <td>20051020_43882_0100_PP.png</td>\n",
       "      <td>1</td>\n",
       "      <td>0</td>\n",
       "      <td>1</td>\n",
       "    </tr>\n",
       "    <tr>\n",
       "      <th>3</th>\n",
       "      <td>20051020_43906_0100_PP.png</td>\n",
       "      <td>2</td>\n",
       "      <td>1</td>\n",
       "      <td>1</td>\n",
       "    </tr>\n",
       "    <tr>\n",
       "      <th>4</th>\n",
       "      <td>20051020_44261_0100_PP.png</td>\n",
       "      <td>0</td>\n",
       "      <td>0</td>\n",
       "      <td>1</td>\n",
       "    </tr>\n",
       "    <tr>\n",
       "      <th>...</th>\n",
       "      <td>...</td>\n",
       "      <td>...</td>\n",
       "      <td>...</td>\n",
       "      <td>...</td>\n",
       "    </tr>\n",
       "    <tr>\n",
       "      <th>1739</th>\n",
       "      <td>IM004806.JPG</td>\n",
       "      <td>0</td>\n",
       "      <td>0</td>\n",
       "      <td>1</td>\n",
       "    </tr>\n",
       "    <tr>\n",
       "      <th>1740</th>\n",
       "      <td>IM004811.JPG</td>\n",
       "      <td>1</td>\n",
       "      <td>0</td>\n",
       "      <td>1</td>\n",
       "    </tr>\n",
       "    <tr>\n",
       "      <th>1741</th>\n",
       "      <td>IM004812.JPG</td>\n",
       "      <td>2</td>\n",
       "      <td>0</td>\n",
       "      <td>1</td>\n",
       "    </tr>\n",
       "    <tr>\n",
       "      <th>1742</th>\n",
       "      <td>IM004831.JPG</td>\n",
       "      <td>0</td>\n",
       "      <td>0</td>\n",
       "      <td>1</td>\n",
       "    </tr>\n",
       "    <tr>\n",
       "      <th>1743</th>\n",
       "      <td>IM004832.JPG</td>\n",
       "      <td>0</td>\n",
       "      <td>0</td>\n",
       "      <td>1</td>\n",
       "    </tr>\n",
       "  </tbody>\n",
       "</table>\n",
       "<p>1744 rows × 4 columns</p>\n",
       "</div>"
      ],
      "text/plain": [
       "                         id_code  diagnosis  adjudicated_dme  \\\n",
       "0     20051020_43808_0100_PP.png          0                0   \n",
       "1     20051020_43832_0100_PP.png          1                0   \n",
       "2     20051020_43882_0100_PP.png          1                0   \n",
       "3     20051020_43906_0100_PP.png          2                1   \n",
       "4     20051020_44261_0100_PP.png          0                0   \n",
       "...                          ...        ...              ...   \n",
       "1739                IM004806.JPG          0                0   \n",
       "1740                IM004811.JPG          1                0   \n",
       "1741                IM004812.JPG          2                0   \n",
       "1742                IM004831.JPG          0                0   \n",
       "1743                IM004832.JPG          0                0   \n",
       "\n",
       "      adjudicated_gradable  \n",
       "0                        1  \n",
       "1                        1  \n",
       "2                        1  \n",
       "3                        1  \n",
       "4                        1  \n",
       "...                    ...  \n",
       "1739                     1  \n",
       "1740                     1  \n",
       "1741                     1  \n",
       "1742                     1  \n",
       "1743                     1  \n",
       "\n",
       "[1744 rows x 4 columns]"
      ]
     },
     "execution_count": 22,
     "metadata": {},
     "output_type": "execute_result"
    }
   ],
   "source": [
    "# CSV\n",
    "df = pd.read_csv(\"../images/messidor_2/messidor_data.csv\")\n",
    "\n",
    "df"
   ]
  },
  {
   "cell_type": "code",
   "execution_count": 23,
   "id": "c828a997",
   "metadata": {},
   "outputs": [
    {
     "name": "stdout",
     "output_type": "stream",
     "text": [
      "Distribution :\n",
      "diagnosis\n",
      "0    1017\n",
      "1     270\n",
      "2     347\n",
      "3      75\n",
      "4      35\n",
      "Name: count, dtype: int64\n"
     ]
    },
    {
     "data": {
      "image/png": "[encoded data removed]",
      "text/plain": [
       "<Figure size 800x600 with 1 Axes>"
      ]
     },
     "metadata": {},
     "output_type": "display_data"
    }
   ],
   "source": [
    "diagnosis_counts = df['diagnosis'].value_counts().sort_index()\n",
    "\n",
    "# Print\n",
    "print(\"Distribution :\")\n",
    "print(diagnosis_counts)\n",
    "\n",
    "# Graph\n",
    "plt.figure(figsize=(8, 6))\n",
    "bars = plt.bar(diagnosis_counts.index.astype(str), diagnosis_counts.values)\n",
    "\n",
    "for bar in bars:\n",
    "    yval = bar.get_height()\n",
    "    plt.text(bar.get_x() + bar.get_width() / 2, yval + 5, int(yval), ha='center', va='bottom')\n",
    "\n",
    "plt.title(\"Distribution of diagnostic\")\n",
    "plt.xlabel(\"Diagnostic\")\n",
    "plt.ylabel(\"Number of images\")\n",
    "plt.grid(axis='y', linestyle='--', alpha=0.7)\n",
    "plt.tight_layout()\n",
    "plt.show()"
   ]
  },
  {
   "cell_type": "markdown",
   "id": "06f313a6-8cf9-4d8d-94e1-1878b79a33c3",
   "metadata": {},
   "source": [
    "### Ajout d'images de classe 1 à 4 de Kaggle"
   ]
  },
  {
   "cell_type": "code",
   "execution_count": 19,
   "id": "7d82b82c-7360-4e41-b2a7-1d4a0721fc30",
   "metadata": {},
   "outputs": [
    {
     "name": "stdout",
     "output_type": "stream",
     "text": [
      "Image to search : 9316\n",
      "Copied : 9316 | Ignored (already exist) : 0 | Not found : 0\n",
      "Class 1 copied : 2443\n",
      "Class 2 copied : 5292\n",
      "Class 3 copied : 873\n",
      "Class 4 copied : 708\n"
     ]
    }
   ],
   "source": [
    "# Config\n",
    "csv_path   = \"../images/kaggle/trainLabels.csv\"\n",
    "train_dir  = \"/home/title/fundus_img/Kaggles/train\"\n",
    "test_dir   = \"/home/title/fundus_img/Kaggles/test\"\n",
    "output_dir = \"../images/kaggle\"\n",
    "\n",
    "# possible ext\n",
    "exts = [\".jpeg\", \".jpg\", \".png\", \".bmp\", \".tif\", \".tiff\", \".webp\"]\n",
    "\n",
    "# Create folder if not present\n",
    "Path(output_dir).mkdir(parents=True, exist_ok=True)\n",
    "\n",
    "# Load and filtering on class 3 and 4\n",
    "df = pd.read_csv(csv_path)\n",
    "if not {\"image\", \"level\"}.issubset(df.columns):\n",
    "    raise ValueError(\"CSV must contain columns image and level\")\n",
    "\n",
    "df_filtered = df[df[\"level\"].isin([1, 2, 3, 4])].copy()\n",
    "print(f\"Image to search : {len(df_filtered)}\")\n",
    "\n",
    "# utils\n",
    "def find_image_path(stem: str) -> Path | None:\n",
    "    for base_dir in (train_dir, test_dir):\n",
    "        for ext in exts:\n",
    "            p = Path(base_dir) / f\"{stem}{ext}\"\n",
    "            if p.exists():\n",
    "                return p\n",
    "            # upper-case just in case\n",
    "            p2 = Path(base_dir) / f\"{stem}{ext.upper()}\"\n",
    "            if p2.exists():\n",
    "                return p2\n",
    "    return None\n",
    "\n",
    "# Copy\n",
    "copied, skipped, missing = 0, 0, []\n",
    "count_classes = {1: 0, 2: 0, 3: 0, 4: 0}\n",
    "\n",
    "for _, row in df_filtered.iterrows():\n",
    "    stem  = str(row[\"image\"]).strip()\n",
    "    level = int(row[\"level\"])\n",
    "\n",
    "    src = find_image_path(stem)\n",
    "    if src is None:\n",
    "        missing.append(stem)\n",
    "        continue\n",
    "\n",
    "    dest_name = f\"{stem}_lvl{level}{src.suffix.lower()}\"\n",
    "    dest = Path(output_dir) / dest_name\n",
    "\n",
    "    if dest.exists():\n",
    "        skipped += 1\n",
    "        continue\n",
    "\n",
    "    shutil.copy2(src, dest)\n",
    "    copied += 1\n",
    "    count_classes[level] += 1\n",
    "\n",
    "# Summary\n",
    "print(f\"Copied : {copied} | Ignored (already exist) : {skipped} | Not found : {len(missing)}\")\n",
    "for lvl in range(1, 5):\n",
    "    print(f\"Class {lvl} copied : {count_classes[lvl]}\")"
   ]
  },
  {
   "cell_type": "markdown",
   "id": "5633cc1b-1f67-4815-8fdf-0afe2313b5b1",
   "metadata": {},
   "source": [
    "### New distribution\n",
    "\n",
    "Looking at the distribution from Kaggle, we should then use the lowest class count (from class 4) as our target number to reach from each class in our final dataset. We are going to add images to each class from our Messidor distribution in order to obtain 743 images per class. This come from the addition of Messidor class 4 count and Kaggle's dataset class 4 count (708+35 = 743)"
   ]
  },
  {
   "cell_type": "code",
   "execution_count": 24,
   "id": "911a0bbc-6d1d-4a64-ad1b-c0b93f4ef8c5",
   "metadata": {
    "scrolled": true
   },
   "outputs": [
    {
     "name": "stdout",
     "output_type": "stream",
     "text": [
      "Distribution Messidor :\n",
      "diagnosis\n",
      "0    1017\n",
      "1     270\n",
      "2     347\n",
      "3      75\n",
      "4      35\n",
      "Name: count, dtype: int64\n",
      "\n",
      "Kaggle disponible (1–4) :\n",
      "0       0\n",
      "1    2443\n",
      "2    5292\n",
      "3     873\n",
      "4     708\n",
      "dtype: int64\n",
      "\n",
      "Target possible for a balanced distribution (classes 1–4) : 743\n",
      "\n",
      "Kaggle used to reach target :\n",
      "0      0\n",
      "1    473\n",
      "2    396\n",
      "3    668\n",
      "4    708\n",
      "dtype: int64\n",
      "\n",
      "Kaggle not used :\n",
      "0       0\n",
      "1    1970\n",
      "2    4896\n",
      "3     205\n",
      "4       0\n",
      "dtype: int64\n",
      "\n",
      "New toal :\n",
      "diagnosis\n",
      "0    1017\n",
      "1     743\n",
      "2     743\n",
      "3     743\n",
      "4     743\n",
      "dtype: int64\n"
     ]
    },
    {
     "data": {
      "image/png": "[encoded data removed]",
      "text/plain": [
       "<Figure size 800x600 with 1 Axes>"
      ]
     },
     "metadata": {},
     "output_type": "display_data"
    }
   ],
   "source": [
    "messidor_counts = df['diagnosis'].value_counts().sort_index()\n",
    "messidor_counts = messidor_counts.reindex(range(5), fill_value=0)\n",
    "\n",
    "# Count Kaggle (../images/kaggle/name*_lvl{1..4}.*)\n",
    "kaggle_dir = \"../images/kaggle\"\n",
    "kaggle_counts = Counter({0:0, 1:0, 2:0, 3:0, 4:0})\n",
    "\n",
    "if os.path.isdir(kaggle_dir):\n",
    "    pattern = re.compile(r\"_lvl([1-4])\\.[^.]+$\", re.IGNORECASE)\n",
    "    for fname in os.listdir(kaggle_dir):\n",
    "        m = pattern.search(fname)\n",
    "        if m:\n",
    "            lvl = int(m.group(1))\n",
    "            kaggle_counts[lvl] += 1\n",
    "else:\n",
    "    print(f\"Folder not found : {kaggle_dir}.\")\n",
    "\n",
    "kaggle_avail = pd.Series([kaggle_counts[i] for i in range(5)], index=range(5))\n",
    "\n",
    "# Balance the number of class (0 ignored) based on the lowest count class (class 4)\n",
    "target_1_4 = min(messidor_counts[c] + kaggle_avail[c] for c in [1,2,3,4])\n",
    "\n",
    "# Usable Kaggle image \n",
    "kaggle_used_vals = []\n",
    "for c in range(5):\n",
    "    if c == 0:\n",
    "        kaggle_used_vals.append(0)\n",
    "    else:\n",
    "        need = max(0, target_1_4 - messidor_counts[c])\n",
    "        use  = min(kaggle_avail[c], need)\n",
    "        kaggle_used_vals.append(int(use))\n",
    "\n",
    "kaggle_used = pd.Series(kaggle_used_vals, index=range(5))\n",
    "kaggle_left = kaggle_avail - kaggle_used\n",
    "\n",
    "# New count\n",
    "total_after = messidor_counts + kaggle_used\n",
    "\n",
    "# --- Prints ---\n",
    "print(\"Distribution Messidor :\")\n",
    "print(messidor_counts)\n",
    "print(\"\\nKaggle disponible (1–4) :\")\n",
    "print(kaggle_avail)\n",
    "print(f\"\\nTarget possible for a balanced distribution (classes 1–4) : {target_1_4}\")\n",
    "print(\"\\nKaggle used to reach target :\")\n",
    "print(kaggle_used)\n",
    "print(\"\\nKaggle not used :\")\n",
    "print(kaggle_left)\n",
    "print(\"\\nNew toal :\")\n",
    "print(total_after)\n",
    "\n",
    "# Graph\n",
    "plt.figure(figsize=(8, 6))\n",
    "x = np.arange(5).astype(str)  # \"0\",\"1\",\"2\",\"3\",\"4\"\n",
    "\n",
    "bars_base = plt.bar(x, messidor_counts.values, label=\"Messidor\", alpha=0.9)\n",
    "bars_add  = plt.bar(x, kaggle_used.values, bottom=messidor_counts.values,\n",
    "                    label=\"Kaggle utilisé (équilibrage 1–4)\", alpha=0.9)\n",
    "\n",
    "# Horizontal line\n",
    "plt.axhline(y=target_1_4, linestyle=\"--\", linewidth=1, label=f\"Target 1–4 = {target_1_4}\")\n",
    "\n",
    "# Labels over\n",
    "for i, (b1, add_val) in enumerate(zip(bars_base, kaggle_used.values)):\n",
    "    total_val = messidor_counts.values[i] + add_val\n",
    "    plt.text(b1.get_x() + b1.get_width()/2, b1.get_height() + add_val + 5,\n",
    "             int(total_val), ha='center', va='bottom', fontsize=9)\n",
    "\n",
    "plt.title(\"Distribution of diagnostic (Kaggle added)\")\n",
    "plt.xlabel(\"Diagnostic\")\n",
    "plt.ylabel(\"Number of images\")\n",
    "plt.grid(axis='y', linestyle='--', alpha=0.7)\n",
    "plt.legend()\n",
    "plt.tight_layout()\n",
    "plt.show()"
   ]
  },
  {
   "cell_type": "markdown",
   "id": "a54bc9d0-7b12-4649-a103-ce2e6d9b7f82",
   "metadata": {},
   "source": [
    "### Physical split and copy to the data folder"
   ]
  },
  {
   "cell_type": "code",
   "execution_count": 25,
   "id": "de95a232",
   "metadata": {},
   "outputs": [],
   "source": [
    "for split_name in [\"train\", \"val\", \"test\"]:\n",
    "    for class_value in range(5):  # classes 0 à 4\n",
    "        class_name = str(class_value)\n",
    "        target_dir = os.path.join(\"./data\", split_name, class_name)\n",
    "        os.makedirs(target_dir, exist_ok=True)"
   ]
  },
  {
   "cell_type": "code",
   "execution_count": 29,
   "id": "36cc8e0e-729c-45a2-be83-017c34b2d0af",
   "metadata": {},
   "outputs": [],
   "source": [
    "# CONFIG\n",
    "\n",
    "# Paths\n",
    "messidor_dir = \"../images/messidor_2\"      \n",
    "kaggle_dir   = \"../images/kaggle\"         \n",
    "output_root  = \"./data\"                   # final split root: ./data/{train,val,test}/{0..4}/\n",
    "\n",
    "# File extensions\n",
    "exts = [\".jpeg\", \".jpg\", \".png\"]\n",
    "\n",
    "# Reproducibility\n",
    "RANDOM_SEED = 974\n",
    "random.seed(RANDOM_SEED)\n",
    "np.random.seed(RANDOM_SEED)\n",
    "\n",
    "# HELPERS\n",
    "def find_path_in_dir(stem: str, base_dir: str) -> Path:\n",
    "    \"\"\"\n",
    "    Resolve an image path given its stem (without extension) by trying known extensions\n",
    "    in lower and upper case, inside 'base_dir'. Returns Path or None.\n",
    "    \"\"\"\n",
    "    stem = str(stem).strip()\n",
    "    for e in exts:\n",
    "        p = Path(base_dir) / f\"{stem}{e}\"\n",
    "        if p.exists():\n",
    "            return p\n",
    "        p2 = Path(base_dir) / f\"{stem}{e.upper()}\"\n",
    "        if p2.exists():\n",
    "            return p2\n",
    "    return None"
   ]
  },
  {
   "cell_type": "code",
   "execution_count": 30,
   "id": "8aef9c87-dd3f-4eba-896b-a0f0c0895bb4",
   "metadata": {},
   "outputs": [
    {
     "name": "stdout",
     "output_type": "stream",
     "text": [
      "Messidor counts: {0: 1017, 1: 270, 2: 347, 3: 75, 4: 35}\n"
     ]
    }
   ],
   "source": [
    "required_cols = {\"id_code\", \"diagnosis\"}\n",
    "if not required_cols.issubset(df.columns):\n",
    "    raise ValueError(f\"Messidor df must contain columns: {required_cols}\")\n",
    "\n",
    "df = pd.read_csv(\"../images/messidor_2/messidor_data.csv\")\n",
    "df_messidor = df.copy()\n",
    "\n",
    "# Build absolute/relative file paths by joining the folder with id_code\n",
    "df_messidor[\"filepath\"] = df_messidor[\"id_code\"].apply(lambda s: str(Path(messidor_dir) / str(s)))\n",
    "\n",
    "# Keep only valid classes and existing files\n",
    "df_messidor = df_messidor[df_messidor[\"diagnosis\"].isin([0,1,2,3,4])].copy()\n",
    "df_messidor[\"exists\"] = df_messidor[\"filepath\"].apply(lambda p: Path(p).exists())\n",
    "\n",
    "missing_messidor = df_messidor.loc[~df_messidor[\"exists\"]]\n",
    "if len(missing_messidor) > 0:\n",
    "    print(f\"{len(missing_messidor)} Messidor images not found; they will be dropped.\")\n",
    "\n",
    "df_messidor = df_messidor.loc[df_messidor[\"exists\"]].drop(columns=[\"exists\"])\n",
    "\n",
    "# Base distribution (Messidor only)\n",
    "messidor_counts = df_messidor[\"diagnosis\"].value_counts().sort_index().reindex(range(5), fill_value=0)\n",
    "print(\"Messidor counts:\", dict(messidor_counts))"
   ]
  },
  {
   "cell_type": "code",
   "execution_count": 31,
   "id": "6c33bac8-c891-4052-bdc5-db94d099f99b",
   "metadata": {},
   "outputs": [
    {
     "name": "stdout",
     "output_type": "stream",
     "text": [
      "Kaggle available (1–4): {1: 2443, 2: 5292, 3: 873, 4: 708}\n",
      "Target per class (1–4) = 743\n",
      "To copy per class: {1: 473, 2: 396, 3: 668, 4: 708}\n",
      "Kaggle selected: 2245 images\n",
      "Selected per class: {1: 473, 2: 396, 3: 668, 4: 708}\n"
     ]
    }
   ],
   "source": [
    "# Scan Kaggle directory: filenames must contain *_lvl{1..4}.*\n",
    "if not os.path.isdir(kaggle_dir):\n",
    "    raise FileNotFoundError(f\"Kaggle folder not found: {kaggle_dir}\")\n",
    "\n",
    "pat = re.compile(r\"_lvl([1-4])\\.[^.]+$\", re.IGNORECASE)\n",
    "k_by_class = {1: [], 2: [], 3: [], 4: []}\n",
    "for fname in os.listdir(kaggle_dir):\n",
    "    m = pat.search(fname)\n",
    "    if m:\n",
    "        lvl = int(m.group(1))\n",
    "        k_by_class[lvl].append(str(Path(kaggle_dir) / fname))\n",
    "\n",
    "k_avail = {c: len(k_by_class[c]) for c in [1,2,3,4]}\n",
    "print(\"Kaggle available (1–4):\", k_avail)\n",
    "\n",
    "# Balanced target reachable on classes 1–4 (class 0 is ignored)\n",
    "target_1_4 = min(messidor_counts[c] + k_avail[c] for c in [1,2,3,4])\n",
    "\n",
    "# Number of Kaggle images to add per class to hit the target\n",
    "to_copy = {c: max(0, min(k_avail[c], target_1_4 - messidor_counts[c])) for c in [1,2,3,4]}\n",
    "\n",
    "print(\"Target per class (1–4) =\", target_1_4)\n",
    "print(\"To copy per class:\", to_copy)\n",
    "\n",
    "# Select the exact files (random, reproducible)\n",
    "selected_k_paths, selected_k_labels = [], []\n",
    "for c in [1,2,3,4]:\n",
    "    need = to_copy[c]\n",
    "    if need <= 0:\n",
    "        continue\n",
    "    cand = k_by_class[c]\n",
    "    if len(cand) <= need:\n",
    "        chosen = cand\n",
    "    else:\n",
    "        chosen = random.sample(cand, k=need)\n",
    "    selected_k_paths.extend(chosen)\n",
    "    selected_k_labels.extend([c] * len(chosen))\n",
    "\n",
    "df_kaggle_sel = pd.DataFrame({\n",
    "    'filepath': selected_k_paths,\n",
    "    'diagnosis': selected_k_labels\n",
    "})\n",
    "\n",
    "print(f\"Kaggle selected: {len(df_kaggle_sel)} images\")\n",
    "print(\"Selected per class:\", dict(df_kaggle_sel['diagnosis'].value_counts().sort_index()))"
   ]
  },
  {
   "cell_type": "code",
   "execution_count": 32,
   "id": "22fc4283-a3ed-4e66-a3a5-446984120f61",
   "metadata": {},
   "outputs": [
    {
     "name": "stdout",
     "output_type": "stream",
     "text": [
      "Final counts before split: {0: 1017, 1: 743, 2: 743, 3: 743, 4: 743}\n",
      "Split sizes: 2792 798 399\n",
      "Train dist: {0: 712, 1: 520, 2: 520, 3: 520, 4: 520}\n",
      "Val   dist: {0: 203, 1: 148, 2: 149, 3: 149, 4: 149}\n",
      "Test  dist: {0: 102, 1: 75, 2: 74, 3: 74, 4: 74}\n"
     ]
    }
   ],
   "source": [
    "# Merge Messidor + selected Kaggle\n",
    "df_all = pd.concat(\n",
    "    [df_messidor[['filepath', 'diagnosis']], df_kaggle_sel[['filepath', 'diagnosis']]],\n",
    "    ignore_index=True\n",
    ")\n",
    "\n",
    "# Sanity check\n",
    "final_counts = df_all['diagnosis'].value_counts().sort_index().reindex(range(5), fill_value=0)\n",
    "print(\"Final counts before split:\", dict(final_counts))\n",
    "\n",
    "# Stratified split 70/20/10\n",
    "train_df, temp_df = train_test_split(\n",
    "    df_all, test_size=0.3, stratify=df_all['diagnosis'], random_state=RANDOM_SEED\n",
    ")\n",
    "val_df, test_df = train_test_split(\n",
    "    temp_df, test_size=1/3, stratify=temp_df['diagnosis'], random_state=RANDOM_SEED\n",
    ")\n",
    "\n",
    "print(\"Split sizes:\", len(train_df), len(val_df), len(test_df))\n",
    "print(\"Train dist:\", dict(train_df['diagnosis'].value_counts().sort_index()))\n",
    "print(\"Val   dist:\", dict(val_df['diagnosis'].value_counts().sort_index()))\n",
    "print(\"Test  dist:\", dict(test_df['diagnosis'].value_counts().sort_index()))"
   ]
  },
  {
   "cell_type": "code",
   "execution_count": 33,
   "id": "b09cdc91-4004-4216-8e12-5f44ee143e25",
   "metadata": {},
   "outputs": [
    {
     "name": "stderr",
     "output_type": "stream",
     "text": [
      "Copying train: 100%|██████████████████████████████████████████████████████████████████████████████████████████████████████████████████████████████| 2792/2792 [00:02<00:00, 1382.33it/s]\n"
     ]
    },
    {
     "name": "stdout",
     "output_type": "stream",
     "text": [
      "train: copied=2792, skipped=0, missing=0\n"
     ]
    },
    {
     "name": "stderr",
     "output_type": "stream",
     "text": [
      "Copying val: 100%|██████████████████████████████████████████████████████████████████████████████████████████████████████████████████████████████████| 798/798 [00:00<00:00, 1279.17it/s]\n"
     ]
    },
    {
     "name": "stdout",
     "output_type": "stream",
     "text": [
      "val: copied=798, skipped=0, missing=0\n"
     ]
    },
    {
     "name": "stderr",
     "output_type": "stream",
     "text": [
      "Copying test: 100%|█████████████████████████████████████████████████████████████████████████████████████████████████████████████████████████████████| 399/399 [00:00<00:00, 1388.65it/s]"
     ]
    },
    {
     "name": "stdout",
     "output_type": "stream",
     "text": [
      "test: copied=399, skipped=0, missing=0\n",
      "Done. Files are under ./data/{train,val,test}/{0..4}/\n"
     ]
    },
    {
     "name": "stderr",
     "output_type": "stream",
     "text": [
      "\n"
     ]
    }
   ],
   "source": [
    "# Create split folders\n",
    "for split_name in [\"train\", \"val\", \"test\"]:\n",
    "    for class_value in range(5):\n",
    "        target_dir = Path(output_root) / split_name / str(class_value)\n",
    "        target_dir.mkdir(parents=True, exist_ok=True)\n",
    "\n",
    "def copy_split(df_split, split_name: str):\n",
    "    copied, missing, skipped = 0, 0, 0\n",
    "    for _, row in tqdm(df_split.iterrows(), total=len(df_split), desc=f\"Copying {split_name}\"):\n",
    "        src = Path(row['filepath'])\n",
    "        cls = int(row['diagnosis'])\n",
    "        dst = Path(output_root) / split_name / str(cls) / src.name\n",
    "\n",
    "        if not src.exists():\n",
    "            missing += 1\n",
    "            continue\n",
    "\n",
    "        if dst.exists():\n",
    "            # Don't overwrite (keeps idempotency)\n",
    "            skipped += 1\n",
    "            continue\n",
    "\n",
    "        shutil.copy2(src, dst)\n",
    "        copied += 1\n",
    "\n",
    "    print(f\"{split_name}: copied={copied}, skipped={skipped}, missing={missing}\")\n",
    "\n",
    "# Execute copies\n",
    "copy_split(train_df, \"train\")\n",
    "copy_split(val_df,   \"val\")\n",
    "copy_split(test_df,  \"test\")\n",
    "\n",
    "print(\"Done. Files are under ./data/{train,val,test}/{0..4}/\")"
   ]
  },
  {
   "cell_type": "markdown",
   "id": "be497b58",
   "metadata": {},
   "source": [
    "\n"
   ]
  },
  {
   "cell_type": "markdown",
   "id": "75f0b52e",
   "metadata": {},
   "source": [
    "\n"
   ]
  },
  {
   "cell_type": "markdown",
   "id": "b711ec0b",
   "metadata": {},
   "source": [
    "\n"
   ]
  },
  {
   "cell_type": "markdown",
   "id": "e6560ffb",
   "metadata": {},
   "source": [
    "\n"
   ]
  },
  {
   "cell_type": "markdown",
   "id": "a92c0b9f",
   "metadata": {},
   "source": [
    "\n"
   ]
  },
  {
   "cell_type": "markdown",
   "id": "b1ac68f6",
   "metadata": {},
   "source": [
    "\n"
   ]
  },
  {
   "cell_type": "markdown",
   "id": "d4dd1968",
   "metadata": {},
   "source": [
    "\n"
   ]
  },
  {
   "cell_type": "markdown",
   "id": "547a01f1",
   "metadata": {},
   "source": [
    "\n"
   ]
  },
  {
   "cell_type": "markdown",
   "id": "2d35dbe0",
   "metadata": {},
   "source": [
    "\n"
   ]
  },
  {
   "cell_type": "markdown",
   "id": "f313098e",
   "metadata": {},
   "source": [
    "# Unlabelled data copy for inference"
   ]
  },
  {
   "cell_type": "markdown",
   "id": "57a6cf0d",
   "metadata": {},
   "source": [
    "The following code is used to copy unlabelled data into RETFound_MAE/data/test/dummy to make prediction by a fine-tuned model."
   ]
  },
  {
   "cell_type": "code",
   "execution_count": 11,
   "id": "bb01c538",
   "metadata": {},
   "outputs": [
    {
     "name": "stdout",
     "output_type": "stream",
     "text": [
      "Number of images found : 10000\n"
     ]
    },
    {
     "name": "stderr",
     "output_type": "stream",
     "text": [
      "Copy to test: 100%|██████████████████████████████████████████████████████████████████████████████████████████████████████████████████████████████| 10000/10000 [00:42<00:00, 234.61it/s]"
     ]
    },
    {
     "name": "stdout",
     "output_type": "stream",
     "text": [
      "1 image copied to train/dummy and 1 to val/dummy.\n",
      "Done.\n"
     ]
    },
    {
     "name": "stderr",
     "output_type": "stream",
     "text": [
      "\n"
     ]
    }
   ],
   "source": [
    "import os\n",
    "import shutil\n",
    "from tqdm import tqdm\n",
    "\n",
    "# Source folder with unlabelled images\n",
    "src_dir = \"../images/chula/10k_images\"\n",
    "\n",
    "# Create folders for RETFound classes\n",
    "splits = [\"train\", \"val\", \"test\"]\n",
    "for split_name in splits:\n",
    "    target_dir = os.path.join(\"./data\", split_name, \"dummy\")\n",
    "    os.makedirs(target_dir, exist_ok=True)\n",
    "\n",
    "# Destination for bulk copy\n",
    "test_dst_dir = \"./data/test/dummy\"\n",
    "\n",
    "# List all image files\n",
    "image_files = sorted([\n",
    "    f for f in os.listdir(src_dir)\n",
    "    if f.lower().endswith(('.png', '.jpg', '.jpeg'))\n",
    "])\n",
    "\n",
    "print(f\"Number of images found : {len(image_files)}\")\n",
    "\n",
    "# Copy ALL images to test/dummy\n",
    "for filename in tqdm(image_files, desc=\"Copy to test\"):\n",
    "    src_path = os.path.join(src_dir, filename)\n",
    "    dst_path = os.path.join(test_dst_dir, filename)\n",
    "    shutil.copy2(src_path, dst_path)\n",
    "\n",
    "# Copy one image to train/dummy and another to val/dummy\n",
    "if len(image_files) >= 2:\n",
    "    shutil.copy2(os.path.join(src_dir, image_files[0]),\n",
    "                 os.path.join(\"./data/train/dummy\", image_files[0]))\n",
    "    \n",
    "    shutil.copy2(os.path.join(src_dir, image_files[1]),\n",
    "                 os.path.join(\"./data/val/dummy\", image_files[1]))\n",
    "    print(\"1 image copied to train/dummy and 1 to val/dummy.\")\n",
    "else:\n",
    "    print(\"Not enough images to copy to train and val.\")\n",
    "\n",
    "print(\"Done.\")"
   ]
  },
  {
   "cell_type": "code",
   "execution_count": null,
   "id": "a612d3bd",
   "metadata": {},
   "outputs": [],
   "source": []
  }
 ],
 "metadata": {
  "kernelspec": {
   "display_name": "Python 3 (ipykernel)",
   "language": "python",
   "name": "python3"
  },
  "language_info": {
   "codemirror_mode": {
    "name": "ipython",
    "version": 3
   },
   "file_extension": ".py",
   "mimetype": "text/x-python",
   "name": "python",
   "nbconvert_exporter": "python",
   "pygments_lexer": "ipython3",
   "version": "3.11.11"
  }
 },
 "nbformat": 4,
 "nbformat_minor": 5
}
